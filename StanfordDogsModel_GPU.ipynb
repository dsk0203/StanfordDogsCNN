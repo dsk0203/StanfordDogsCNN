{
 "cells": [
  {
   "cell_type": "code",
   "execution_count": 1,
   "metadata": {},
   "outputs": [],
   "source": [
    "# basic modeling\n",
    "import os\n",
    "import torch\n",
    "#import torchvision\n",
    "import torch.nn as nn\n",
    "import numpy as np\n",
    "\n",
    "# progress bar\n",
    "from tqdm import tqdm\n",
    "\n",
    "# for reading and displaying images and editing\n",
    "from skimage.io import imread\n",
    "from skimage.transform import resize\n",
    "import matplotlib.pyplot as plt\n",
    "%matplotlib inline\n",
    "\n",
    "# validation & test set\n",
    "from sklearn.model_selection import train_test_split\n",
    "\n",
    "# Loss Function & Optimizer\n",
    "import torch.nn.functional as F\n",
    "import torch.optim as optim\n",
    "\n",
    "#Accuracy\n",
    "from sklearn.metrics import accuracy_score\n",
    "\n",
    "# Data Cleaning\n",
    "#from torchvision.transforms import ToTensor\n",
    "from torch.autograd import Variable # requires_gradient = true\n",
    "from torch.nn import Linear, ReLU, Sequential, Conv2d, MaxPool2d, Module\n",
    "from torch.nn import Softmax, BatchNorm2d, Dropout"
   ]
  },
  {
   "cell_type": "code",
   "execution_count": 2,
   "metadata": {},
   "outputs": [
    {
     "name": "stdout",
     "output_type": "stream",
     "text": [
      "['n02085620-Chihuahua', 'n02085782-Japanese_spaniel', 'n02085936-Maltese_dog', 'n02086079-Pekinese', 'n02086240-Shih-Tzu', 'n02086646-Blenheim_spaniel', 'n02086910-papillon', 'n02087046-toy_terrier', 'n02087394-Rhodesian_ridgeback', 'n02088094-Afghan_hound', 'n02088238-basset', 'n02088364-beagle', 'n02088466-bloodhound', 'n02088632-bluetick', 'n02089078-black-and-tan_coonhound', 'n02089867-Walker_hound', 'n02089973-English_foxhound', 'n02090379-redbone', 'n02090622-borzoi', 'n02090721-Irish_wolfhound', 'n02091032-Italian_greyhound', 'n02091134-whippet', 'n02091244-Ibizan_hound', 'n02091467-Norwegian_elkhound', 'n02091635-otterhound', 'n02091831-Saluki', 'n02092002-Scottish_deerhound', 'n02092339-Weimaraner', 'n02093256-Staffordshire_bullterrier', 'n02093428-American_Staffordshire_terrier', 'n02093647-Bedlington_terrier', 'n02093754-Border_terrier', 'n02093859-Kerry_blue_terrier', 'n02093991-Irish_terrier', 'n02094114-Norfolk_terrier', 'n02094258-Norwich_terrier', 'n02094433-Yorkshire_terrier', 'n02095314-wire-haired_fox_terrier', 'n02095570-Lakeland_terrier', 'n02095889-Sealyham_terrier', 'n02096051-Airedale', 'n02096177-cairn', 'n02096294-Australian_terrier', 'n02096437-Dandie_Dinmont', 'n02096585-Boston_bull', 'n02097047-miniature_schnauzer', 'n02097130-giant_schnauzer', 'n02097209-standard_schnauzer', 'n02097298-Scotch_terrier', 'n02097474-Tibetan_terrier', 'n02097658-silky_terrier', 'n02098105-soft-coated_wheaten_terrier', 'n02098286-West_Highland_white_terrier', 'n02098413-Lhasa', 'n02099267-flat-coated_retriever', 'n02099429-curly-coated_retriever', 'n02099601-golden_retriever', 'n02099712-Labrador_retriever', 'n02099849-Chesapeake_Bay_retriever', 'n02100236-German_short-haired_pointer', 'n02100583-vizsla', 'n02100735-English_setter', 'n02100877-Irish_setter', 'n02101006-Gordon_setter', 'n02101388-Brittany_spaniel', 'n02101556-clumber', 'n02102040-English_springer', 'n02102177-Welsh_springer_spaniel', 'n02102318-cocker_spaniel', 'n02102480-Sussex_spaniel', 'n02102973-Irish_water_spaniel', 'n02104029-kuvasz', 'n02104365-schipperke', 'n02105056-groenendael', 'n02105162-malinois', 'n02105251-briard', 'n02105412-kelpie', 'n02105505-komondor', 'n02105641-Old_English_sheepdog', 'n02105855-Shetland_sheepdog', 'n02106030-collie', 'n02106166-Border_collie', 'n02106382-Bouvier_des_Flandres', 'n02106550-Rottweiler', 'n02106662-German_shepherd', 'n02107142-Doberman', 'n02107312-miniature_pinscher', 'n02107574-Greater_Swiss_Mountain_dog', 'n02107683-Bernese_mountain_dog', 'n02107908-Appenzeller', 'n02108000-EntleBucher', 'n02108089-boxer', 'n02108422-bull_mastiff', 'n02108551-Tibetan_mastiff', 'n02108915-French_bulldog', 'n02109047-Great_Dane', 'n02109525-Saint_Bernard', 'n02109961-Eskimo_dog', 'n02110063-malamute', 'n02110185-Siberian_husky', 'n02110627-affenpinscher', 'n02110806-basenji', 'n02110958-pug', 'n02111129-Leonberg', 'n02111277-Newfoundland', 'n02111500-Great_Pyrenees', 'n02111889-Samoyed', 'n02112018-Pomeranian', 'n02112137-chow', 'n02112350-keeshond', 'n02112706-Brabancon_griffon', 'n02113023-Pembroke', 'n02113186-Cardigan', 'n02113624-toy_poodle', 'n02113712-miniature_poodle', 'n02113799-standard_poodle', 'n02113978-Mexican_hairless', 'n02115641-dingo', 'n02115913-dhole', 'n02116738-African_hunting_dog']\n"
     ]
    }
   ],
   "source": [
    "# Directory where data is\n",
    "#laptop\n",
    "#data_dir = r'C:\\Users\\dsk02\\Desktop\\python_projects\\torch_dogs\\main_images\\Images'\n",
    "\n",
    "#gpu comp\n",
    "data_dir = r'C:\\Users\\Dylan\\Desktop\\GPU_RUN\\StanfordDogsCNN\\images\\Images'\n",
    "print(os.listdir(data_dir))"
   ]
  },
  {
   "cell_type": "code",
   "execution_count": 3,
   "metadata": {},
   "outputs": [
    {
     "name": "stderr",
     "output_type": "stream",
     "text": [
      "100%|███████████████████████████████████████████████████████████████████████████████| 120/120 [00:00<?, ?it/s]\n"
     ]
    },
    {
     "name": "stdout",
     "output_type": "stream",
     "text": [
      "['chihuahua', 'japanese_spaniel', 'maltese_dog', 'pekinese', 'shih tzu', 'blenheim_spaniel', 'papillon', 'toy_terrier', 'rhodesian_ridgeback', 'afghan_hound', 'basset', 'beagle', 'bloodhound', 'bluetick', 'black and tan_coonhound']\n"
     ]
    }
   ],
   "source": [
    "# clean up classes name\n",
    "temp = os.listdir(data_dir)\n",
    "\n",
    "classes = []\n",
    "\n",
    "# class cleaning\n",
    "\n",
    "for each_folder in tqdm(temp):\n",
    "    \n",
    "    # split words on -\n",
    "    split_words = each_folder.split('-')\n",
    "    \n",
    "    # if there is more than one dash\n",
    "    if len(split_words) > 2:\n",
    "        \n",
    "        # create temp word\n",
    "        temp = ''\n",
    "        # for each value in the split_words array (starting from 1)\n",
    "        for i in range(1,len(split_words)):\n",
    "            \n",
    "            # if it's not the end add word + space\n",
    "            if i != (len(split_words)-1):\n",
    "                temp += (split_words[i] + ' ')\n",
    "            else:\n",
    "                # if end just add the word\n",
    "                temp += (split_words[i])\n",
    "        \n",
    "        # append temp to classes\n",
    "        classes.append(temp.lower())\n",
    "    \n",
    "    # if it equals 2 it's just nasty title + name, append name\n",
    "    elif len(split_words) == 2:\n",
    "        classes.append(each_folder.split('-')[1].lower())\n",
    "    \n",
    "    # outliers append \n",
    "    else:\n",
    "        classes.append(each_folder.lower())\n",
    "    \n",
    "# print first few classes, all lower case\n",
    "print(classes[0:15])"
   ]
  },
  {
   "cell_type": "code",
   "execution_count": 4,
   "metadata": {},
   "outputs": [
    {
     "name": "stdout",
     "output_type": "stream",
     "text": [
      "defaultdict(<class 'str'>, {0: 'chihuahua', 1: 'japanese_spaniel', 2: 'maltese_dog', 3: 'pekinese', 4: 'shih tzu', 5: 'blenheim_spaniel', 6: 'papillon', 7: 'toy_terrier', 8: 'rhodesian_ridgeback', 9: 'afghan_hound', 10: 'basset', 11: 'beagle', 12: 'bloodhound', 13: 'bluetick', 14: 'black and tan_coonhound', 15: 'walker_hound', 16: 'english_foxhound', 17: 'redbone', 18: 'borzoi', 19: 'irish_wolfhound', 20: 'italian_greyhound', 21: 'whippet', 22: 'ibizan_hound', 23: 'norwegian_elkhound', 24: 'otterhound', 25: 'saluki', 26: 'scottish_deerhound', 27: 'weimaraner', 28: 'staffordshire_bullterrier', 29: 'american_staffordshire_terrier', 30: 'bedlington_terrier', 31: 'border_terrier', 32: 'kerry_blue_terrier', 33: 'irish_terrier', 34: 'norfolk_terrier', 35: 'norwich_terrier', 36: 'yorkshire_terrier', 37: 'wire haired_fox_terrier', 38: 'lakeland_terrier', 39: 'sealyham_terrier', 40: 'airedale', 41: 'cairn', 42: 'australian_terrier', 43: 'dandie_dinmont', 44: 'boston_bull', 45: 'miniature_schnauzer', 46: 'giant_schnauzer', 47: 'standard_schnauzer', 48: 'scotch_terrier', 49: 'tibetan_terrier', 50: 'silky_terrier', 51: 'soft coated_wheaten_terrier', 52: 'west_highland_white_terrier', 53: 'lhasa', 54: 'flat coated_retriever', 55: 'curly coated_retriever', 56: 'golden_retriever', 57: 'labrador_retriever', 58: 'chesapeake_bay_retriever', 59: 'german_short haired_pointer', 60: 'vizsla', 61: 'english_setter', 62: 'irish_setter', 63: 'gordon_setter', 64: 'brittany_spaniel', 65: 'clumber', 66: 'english_springer', 67: 'welsh_springer_spaniel', 68: 'cocker_spaniel', 69: 'sussex_spaniel', 70: 'irish_water_spaniel', 71: 'kuvasz', 72: 'schipperke', 73: 'groenendael', 74: 'malinois', 75: 'briard', 76: 'kelpie', 77: 'komondor', 78: 'old_english_sheepdog', 79: 'shetland_sheepdog', 80: 'collie', 81: 'border_collie', 82: 'bouvier_des_flandres', 83: 'rottweiler', 84: 'german_shepherd', 85: 'doberman', 86: 'miniature_pinscher', 87: 'greater_swiss_mountain_dog', 88: 'bernese_mountain_dog', 89: 'appenzeller', 90: 'entlebucher', 91: 'boxer', 92: 'bull_mastiff', 93: 'tibetan_mastiff', 94: 'french_bulldog', 95: 'great_dane', 96: 'saint_bernard', 97: 'eskimo_dog', 98: 'malamute', 99: 'siberian_husky', 100: 'affenpinscher', 101: 'basenji', 102: 'pug', 103: 'leonberg', 104: 'newfoundland', 105: 'great_pyrenees', 106: 'samoyed', 107: 'pomeranian', 108: 'chow', 109: 'keeshond', 110: 'brabancon_griffon', 111: 'pembroke', 112: 'cardigan', 113: 'toy_poodle', 114: 'miniature_poodle', 115: 'standard_poodle', 116: 'mexican_hairless', 117: 'dingo', 118: 'dhole', 119: 'african_hunting_dog'})\n"
     ]
    }
   ],
   "source": [
    "from collections import defaultdict\n",
    "\n",
    "# create lookup dictionary for index -> class\n",
    "lookup = [x for x in range(0,len(classes))]\n",
    "\n",
    "# initialize with strings\n",
    "classLookup = defaultdict(str)\n",
    "\n",
    "# index and class, push into defaultDict ->\n",
    "for i, each_class in enumerate(classes):\n",
    "    classLookup[i] = each_class\n",
    "    \n",
    "# will use at end for lookups on guesses\n",
    "print(classLookup)"
   ]
  },
  {
   "cell_type": "code",
   "execution_count": null,
   "metadata": {},
   "outputs": [],
   "source": [
    "# to stop run\n",
    "xxxxxxxxxx\n",
    "\n",
    "# load train images\n",
    "train_img = []\n",
    "train_targets = []\n",
    "\n",
    "def load_train(): \n",
    "\n",
    "    temp = os.listdir(data_dir)\n",
    "\n",
    "    # for each folder in the train set\n",
    "    for i_, each_folder in tqdm(enumerate(temp)):\n",
    "\n",
    "        print('{} out of {}'.format(i_, len(temp)))\n",
    "\n",
    "        #current image names\n",
    "        image_names = os.listdir(data_dir + '/' + str(temp[i_]))\n",
    "\n",
    "        # for each file in the folder \n",
    "        for i, img_name in enumerate(image_names):\n",
    "\n",
    "            # image path\n",
    "            image_path = str(str(data_dir) + '/' + str(temp[i_]) + '/' + str(img_name))\n",
    "\n",
    "            #read image\n",
    "            img = imread(image_path)\n",
    "\n",
    "            #change image shape to -> 3,28,28 (originally were massive)\n",
    "            img = resize(img, (3,28,28))\n",
    "\n",
    "            # convert dt -> may have to change if 2 big\n",
    "            img = img.astype('float32')\n",
    "\n",
    "            #append to trainning list\n",
    "            train_img.append(img)\n",
    "\n",
    "            #append to targets list\n",
    "            train_targets.append(i_)\n",
    "            \n",
    "load_train()"
   ]
  },
  {
   "cell_type": "code",
   "execution_count": null,
   "metadata": {},
   "outputs": [],
   "source": [
    "# convert to numpy arrays, make sure worked also\n",
    "print(len(train_img))\n",
    "print(len(train_targets))\n",
    "\n",
    "train_x = np.array(train_img)\n",
    "train_y = np.array(train_targets)"
   ]
  },
  {
   "cell_type": "markdown",
   "metadata": {},
   "source": [
    "# pickling / loading (np)"
   ]
  },
  {
   "cell_type": "code",
   "execution_count": null,
   "metadata": {},
   "outputs": [],
   "source": [
    "import pickle\n",
    "\n",
    "x = train_x\n",
    "y = train_y\n",
    "    \n",
    "# using save (to npy), savez (to npz)\n",
    "np.save(r'C:\\Users\\Dylan\\Desktop\\GPU_RUN/x', x)\n",
    "np.save(r'C:\\Users\\Dylan\\Desktop\\GPU_RUN/y', y)\n",
    "np.savez(r'C:\\Users\\Dylan\\Desktop\\GPU_RUN/db', x=x, y=y)\n",
    "\n",
    "with open(r'C:\\Users\\Dylan\\Desktop\\GPU_RUN/db.pkl', 'wb') as db_file:\n",
    "    pickle.dump(obj={'x':x, 'y':y}, file=db_file)\n"
   ]
  },
  {
   "cell_type": "markdown",
   "metadata": {},
   "source": [
    "# load"
   ]
  },
  {
   "cell_type": "code",
   "execution_count": 5,
   "metadata": {},
   "outputs": [],
   "source": [
    "## using loading npy, npz files\n",
    "import pickle\n",
    "\n",
    "train_x = np.load(r'C:\\Users\\Dylan\\Desktop\\GPU_RUN/x.npy')\n",
    "train_x = np.array(train_x)\n",
    "\n",
    "train_y = np.load(r'C:\\Users\\Dylan\\Desktop\\GPU_RUN/y.npy')\n",
    "train_y = np.array(train_y)\n",
    "\n",
    "#db = np.load(r'C:\\Users\\Dylan\\Desktop\\GPU_RUN/db.npz')\n",
    "#with open(path/'db.pkl', 'rb') as db_file:\n",
    "#    db_pkl = pickle.load(db_file)"
   ]
  },
  {
   "cell_type": "markdown",
   "metadata": {},
   "source": [
    "# Creating validation set and preprocess the images"
   ]
  },
  {
   "cell_type": "code",
   "execution_count": 6,
   "metadata": {},
   "outputs": [],
   "source": [
    "train_x, val_x, train_y, val_y = train_test_split(train_x, \n",
    "                                                train_y, \n",
    "                                                test_size = 0.2,\n",
    "                                                shuffle=True,\n",
    "                                                random_state=32)"
   ]
  },
  {
   "cell_type": "code",
   "execution_count": 7,
   "metadata": {},
   "outputs": [
    {
     "name": "stdout",
     "output_type": "stream",
     "text": [
      "(16464, 3, 28, 28)\n",
      "(16464,)\n",
      "(4116, 3, 28, 28)\n",
      "(4116,)\n"
     ]
    }
   ],
   "source": [
    "print(train_x.shape)\n",
    "print(train_y.shape)\n",
    "print(val_x.shape)\n",
    "print(val_y.shape)"
   ]
  },
  {
   "cell_type": "code",
   "execution_count": 8,
   "metadata": {},
   "outputs": [
    {
     "name": "stdout",
     "output_type": "stream",
     "text": [
      "torch.Size([16464, 3, 28, 28]) torch.Size([16464])\n",
      "torch.Size([4116, 3, 28, 28]) torch.Size([4116])\n"
     ]
    }
   ],
   "source": [
    "train_xT = torch.from_numpy(train_x)\n",
    "train_yT = torch.from_numpy(train_y)\n",
    "train_yT = train_yT.long()\n",
    "\n",
    "print(train_xT.shape, train_yT.shape)\n",
    "\n",
    "val_xT = torch.from_numpy(val_x)\n",
    "val_yT = torch.from_numpy(val_y)\n",
    "val_yT = val_yT.long()\n",
    "\n",
    "print(val_xT.shape, val_yT.shape)"
   ]
  },
  {
   "cell_type": "code",
   "execution_count": 9,
   "metadata": {},
   "outputs": [],
   "source": [
    "import torch.nn as nn\n",
    "import torch.nn.functional as F\n",
    "\n",
    "class StanfordDogs(nn.Module):\n",
    "    def __init__(self):\n",
    "        super().__init__()\n",
    "        \n",
    "        self.cnn_layers = Sequential(\n",
    "            Conv2d(3,32, kernel_size=3, stride=1, padding=1),\n",
    "            BatchNorm2d(32),\n",
    "            ReLU(inplace=True),\n",
    "            \n",
    "            Conv2d(32,64, kernel_size=3, stride=1, padding=1),\n",
    "            BatchNorm2d(64),\n",
    "            ReLU(inplace=True),\n",
    "            MaxPool2d(2, 2), # 64 x 14 x 14\n",
    "            \n",
    "            Conv2d(64,128, kernel_size=3, stride=1, padding=1),\n",
    "            BatchNorm2d(128),\n",
    "            ReLU(inplace=True),\n",
    "            MaxPool2d(2, 2), # 128 x 7 x 7\n",
    "            \n",
    "        )\n",
    "        \n",
    "        self.linear_layers = Sequential(\n",
    "            Linear(128 * 7 * 7, 64 * 14 * 14),\n",
    "            Linear(64 * 14 * 14, 120))\n",
    "        \n",
    "    def forward(self,x):\n",
    "        x = self.cnn_layers(x)\n",
    "        x = x.view(x.size(0),-1)\n",
    "        x = self.linear_layers(x)\n",
    "        return x\n"
   ]
  },
  {
   "cell_type": "markdown",
   "metadata": {},
   "source": [
    "# Build Model / GPU Check"
   ]
  },
  {
   "cell_type": "code",
   "execution_count": 10,
   "metadata": {},
   "outputs": [
    {
     "name": "stdout",
     "output_type": "stream",
     "text": [
      "GPU is available \n",
      "\n",
      "StanfordDogs(\n",
      "  (cnn_layers): Sequential(\n",
      "    (0): Conv2d(3, 32, kernel_size=(3, 3), stride=(1, 1), padding=(1, 1))\n",
      "    (1): BatchNorm2d(32, eps=1e-05, momentum=0.1, affine=True, track_running_stats=True)\n",
      "    (2): ReLU(inplace=True)\n",
      "    (3): Conv2d(32, 64, kernel_size=(3, 3), stride=(1, 1), padding=(1, 1))\n",
      "    (4): BatchNorm2d(64, eps=1e-05, momentum=0.1, affine=True, track_running_stats=True)\n",
      "    (5): ReLU(inplace=True)\n",
      "    (6): MaxPool2d(kernel_size=2, stride=2, padding=0, dilation=1, ceil_mode=False)\n",
      "    (7): Conv2d(64, 128, kernel_size=(3, 3), stride=(1, 1), padding=(1, 1))\n",
      "    (8): BatchNorm2d(128, eps=1e-05, momentum=0.1, affine=True, track_running_stats=True)\n",
      "    (9): ReLU(inplace=True)\n",
      "    (10): MaxPool2d(kernel_size=2, stride=2, padding=0, dilation=1, ceil_mode=False)\n",
      "  )\n",
      "  (linear_layers): Sequential(\n",
      "    (0): Linear(in_features=6272, out_features=12544, bias=True)\n",
      "    (1): Linear(in_features=12544, out_features=120, bias=True)\n",
      "  )\n",
      ")\n"
     ]
    }
   ],
   "source": [
    "# Initialize Model\n",
    "model = StanfordDogs()\n",
    "\n",
    "# optimizer, Adam GOAT\n",
    "optimizer = optim.Adam(model.parameters(), lr=0.001)\n",
    "\n",
    "# loss function\n",
    "criterion = nn.CrossEntropyLoss()\n",
    "\n",
    "# if gpu -> Cuda\n",
    "if torch.cuda.is_available():\n",
    "    \n",
    "    # push to gpu\n",
    "    model = model.cuda()\n",
    "    criterion = criterion.cuda()\n",
    "    print('GPU is available \\n')\n",
    "else:\n",
    "    print('GPU is not available \\n')\n",
    "    \n",
    "print(model)"
   ]
  },
  {
   "cell_type": "markdown",
   "metadata": {},
   "source": [
    "# Trainning Day"
   ]
  },
  {
   "cell_type": "code",
   "execution_count": 13,
   "metadata": {},
   "outputs": [],
   "source": [
    "loss_Tracker = []\n",
    "acc_Tracker = []\n",
    "\n",
    "def train(epoch, x_train, y_train, x_val, y_val):\n",
    "    \n",
    "    # memory problems\n",
    "    torch.cuda.empty_cache()\n",
    "         \n",
    "    # it's time to train\n",
    "    model.train()\n",
    "    \n",
    "    # loss\n",
    "    loss = 0\n",
    "    \n",
    "    # check gpu, if so -> send\n",
    "    if torch.cuda.is_available():\n",
    "        \n",
    "        #torch.cuda.empty_cache() \n",
    "        x_train = x_train.cuda()\n",
    "        y_train = y_train.cuda()\n",
    "        x_val = x_val.cuda()\n",
    "        y_val = y_val.cuda()\n",
    "        torch.cuda.empty_cache()\n",
    "        \n",
    "    \n",
    "    #clear gradients of model params\n",
    "    optimizer.zero_grad()\n",
    "    \n",
    "    #preds\n",
    "    train_preds = model(x_train)\n",
    "    val_preds = model(x_val)\n",
    "    \n",
    "    # loss\n",
    "    train_loss = criterion(train_preds, y_train)\n",
    "    loss_val = criterion(val_preds, y_val)\n",
    "    \n",
    "    # keep track of val set loss, want to graph\n",
    "    loss_Tracker.append(loss_val.item())\n",
    "    \n",
    "    # update weights\n",
    "    train_loss.backward()\n",
    "    optimizer.step()\n",
    "    \n",
    "    # extract float\n",
    "    loss = loss_val.item()\n",
    "    \n",
    "    print('Epoch : {}, Loss {}.'.format(epoch+1,loss_val))"
   ]
  },
  {
   "cell_type": "code",
   "execution_count": 16,
   "metadata": {},
   "outputs": [
    {
     "name": "stderr",
     "output_type": "stream",
     "text": [
      "\r",
      "  0%|                                                                                  | 0/50 [00:00<?, ?it/s]"
     ]
    },
    {
     "name": "stdout",
     "output_type": "stream",
     "text": [
      "329\n",
      "82\n",
      "Epoch : 1, Loss 6.175567150115967.\n"
     ]
    },
    {
     "name": "stderr",
     "output_type": "stream",
     "text": [
      "\r",
      "  2%|█▍                                                                        | 1/50 [00:00<00:10,  4.72it/s]"
     ]
    },
    {
     "name": "stdout",
     "output_type": "stream",
     "text": [
      "329\n",
      "82\n",
      "Epoch : 2, Loss 5.997797012329102.\n"
     ]
    },
    {
     "name": "stderr",
     "output_type": "stream",
     "text": [
      "\r",
      "  4%|██▉                                                                       | 2/50 [00:00<00:10,  4.76it/s]"
     ]
    },
    {
     "name": "stdout",
     "output_type": "stream",
     "text": [
      "329\n",
      "82\n",
      "Epoch : 3, Loss 5.158174991607666.\n"
     ]
    },
    {
     "name": "stderr",
     "output_type": "stream",
     "text": [
      "\r",
      "  6%|████▍                                                                     | 3/50 [00:00<00:09,  4.79it/s]"
     ]
    },
    {
     "name": "stdout",
     "output_type": "stream",
     "text": [
      "329\n",
      "82\n",
      "Epoch : 4, Loss 5.952808380126953.\n"
     ]
    },
    {
     "name": "stderr",
     "output_type": "stream",
     "text": [
      "\r",
      "  8%|█████▉                                                                    | 4/50 [00:00<00:09,  4.85it/s]"
     ]
    },
    {
     "name": "stdout",
     "output_type": "stream",
     "text": [
      "329\n",
      "82\n",
      "Epoch : 5, Loss 5.780426025390625.\n"
     ]
    },
    {
     "name": "stderr",
     "output_type": "stream",
     "text": [
      "\r",
      " 10%|███████▍                                                                  | 5/50 [00:01<00:09,  4.87it/s]"
     ]
    },
    {
     "name": "stdout",
     "output_type": "stream",
     "text": [
      "329\n",
      "82\n",
      "Epoch : 6, Loss 5.6646833419799805.\n"
     ]
    },
    {
     "name": "stderr",
     "output_type": "stream",
     "text": [
      "\r",
      " 12%|████████▉                                                                 | 6/50 [00:01<00:09,  4.86it/s]"
     ]
    },
    {
     "name": "stdout",
     "output_type": "stream",
     "text": [
      "329\n",
      "82\n",
      "Epoch : 7, Loss 5.825862407684326.\n"
     ]
    },
    {
     "name": "stderr",
     "output_type": "stream",
     "text": [
      "\r",
      " 14%|██████████▎                                                               | 7/50 [00:01<00:08,  4.87it/s]"
     ]
    },
    {
     "name": "stdout",
     "output_type": "stream",
     "text": [
      "329\n",
      "82\n",
      "Epoch : 8, Loss 5.517221450805664.\n"
     ]
    },
    {
     "name": "stderr",
     "output_type": "stream",
     "text": [
      "\r",
      " 16%|███████████▊                                                              | 8/50 [00:01<00:08,  4.88it/s]"
     ]
    },
    {
     "name": "stdout",
     "output_type": "stream",
     "text": [
      "329\n",
      "82\n",
      "Epoch : 9, Loss 5.308816909790039.\n"
     ]
    },
    {
     "name": "stderr",
     "output_type": "stream",
     "text": [
      "\r",
      " 18%|█████████████▎                                                            | 9/50 [00:01<00:08,  4.87it/s]"
     ]
    },
    {
     "name": "stdout",
     "output_type": "stream",
     "text": [
      "329\n",
      "82\n",
      "Epoch : 10, Loss 5.362155914306641.\n"
     ]
    },
    {
     "name": "stderr",
     "output_type": "stream",
     "text": [
      "\r",
      " 20%|██████████████▌                                                          | 10/50 [00:02<00:08,  4.86it/s]"
     ]
    },
    {
     "name": "stdout",
     "output_type": "stream",
     "text": [
      "329\n",
      "82\n",
      "Epoch : 11, Loss 5.065948963165283.\n"
     ]
    },
    {
     "name": "stderr",
     "output_type": "stream",
     "text": [
      "\r",
      " 22%|████████████████                                                         | 11/50 [00:02<00:08,  4.86it/s]"
     ]
    },
    {
     "name": "stdout",
     "output_type": "stream",
     "text": [
      "329\n",
      "82\n",
      "Epoch : 12, Loss 5.215670108795166.\n"
     ]
    },
    {
     "name": "stderr",
     "output_type": "stream",
     "text": [
      "\r",
      " 24%|█████████████████▌                                                       | 12/50 [00:02<00:07,  4.86it/s]"
     ]
    },
    {
     "name": "stdout",
     "output_type": "stream",
     "text": [
      "329\n",
      "82\n",
      "Epoch : 13, Loss 5.176259517669678.\n"
     ]
    },
    {
     "name": "stderr",
     "output_type": "stream",
     "text": [
      "\r",
      " 26%|██████████████████▉                                                      | 13/50 [00:02<00:07,  4.87it/s]"
     ]
    },
    {
     "name": "stdout",
     "output_type": "stream",
     "text": [
      "329\n",
      "82\n",
      "Epoch : 14, Loss 6.118523120880127.\n"
     ]
    },
    {
     "name": "stderr",
     "output_type": "stream",
     "text": [
      "\r",
      " 28%|████████████████████▍                                                    | 14/50 [00:02<00:07,  4.87it/s]"
     ]
    },
    {
     "name": "stdout",
     "output_type": "stream",
     "text": [
      "329\n",
      "82\n",
      "Epoch : 15, Loss 5.314820289611816.\n"
     ]
    },
    {
     "name": "stderr",
     "output_type": "stream",
     "text": [
      "\r",
      " 30%|█████████████████████▉                                                   | 15/50 [00:03<00:07,  4.87it/s]"
     ]
    },
    {
     "name": "stdout",
     "output_type": "stream",
     "text": [
      "329\n",
      "82\n",
      "Epoch : 16, Loss 5.056272029876709.\n"
     ]
    },
    {
     "name": "stderr",
     "output_type": "stream",
     "text": [
      "\r",
      " 32%|███████████████████████▎                                                 | 16/50 [00:03<00:07,  4.84it/s]"
     ]
    },
    {
     "name": "stdout",
     "output_type": "stream",
     "text": [
      "329\n",
      "82\n",
      "Epoch : 17, Loss 5.310978412628174.\n"
     ]
    },
    {
     "name": "stderr",
     "output_type": "stream",
     "text": [
      "\r",
      " 34%|████████████████████████▊                                                | 17/50 [00:03<00:06,  4.85it/s]"
     ]
    },
    {
     "name": "stdout",
     "output_type": "stream",
     "text": [
      "329\n",
      "82\n",
      "Epoch : 18, Loss 6.17594575881958.\n"
     ]
    },
    {
     "name": "stderr",
     "output_type": "stream",
     "text": [
      "\r",
      " 36%|██████████████████████████▎                                              | 18/50 [00:03<00:06,  4.86it/s]"
     ]
    },
    {
     "name": "stdout",
     "output_type": "stream",
     "text": [
      "329\n",
      "82\n",
      "Epoch : 19, Loss 5.508077621459961.\n"
     ]
    },
    {
     "name": "stderr",
     "output_type": "stream",
     "text": [
      "\r",
      " 38%|███████████████████████████▋                                             | 19/50 [00:03<00:06,  4.88it/s]"
     ]
    },
    {
     "name": "stdout",
     "output_type": "stream",
     "text": [
      "329\n",
      "82\n",
      "Epoch : 20, Loss 5.616249084472656.\n"
     ]
    },
    {
     "name": "stderr",
     "output_type": "stream",
     "text": [
      "\r",
      " 40%|█████████████████████████████▏                                           | 20/50 [00:04<00:06,  4.89it/s]"
     ]
    },
    {
     "name": "stdout",
     "output_type": "stream",
     "text": [
      "329\n",
      "82\n",
      "Epoch : 21, Loss 6.1768646240234375.\n"
     ]
    },
    {
     "name": "stderr",
     "output_type": "stream",
     "text": [
      "\r",
      " 42%|██████████████████████████████▋                                          | 21/50 [00:04<00:05,  4.91it/s]"
     ]
    },
    {
     "name": "stdout",
     "output_type": "stream",
     "text": [
      "329\n",
      "82\n",
      "Epoch : 22, Loss 7.0179057121276855.\n"
     ]
    },
    {
     "name": "stderr",
     "output_type": "stream",
     "text": [
      "\r",
      " 44%|████████████████████████████████                                         | 22/50 [00:04<00:05,  4.92it/s]"
     ]
    },
    {
     "name": "stdout",
     "output_type": "stream",
     "text": [
      "329\n",
      "82\n",
      "Epoch : 23, Loss 5.178272724151611.\n"
     ]
    },
    {
     "name": "stderr",
     "output_type": "stream",
     "text": [
      "\r",
      " 46%|█████████████████████████████████▌                                       | 23/50 [00:04<00:05,  4.92it/s]"
     ]
    },
    {
     "name": "stdout",
     "output_type": "stream",
     "text": [
      "329\n",
      "82\n",
      "Epoch : 24, Loss 5.502699851989746.\n"
     ]
    },
    {
     "name": "stderr",
     "output_type": "stream",
     "text": [
      "\r",
      " 48%|███████████████████████████████████                                      | 24/50 [00:04<00:05,  4.92it/s]"
     ]
    },
    {
     "name": "stdout",
     "output_type": "stream",
     "text": [
      "329\n",
      "82\n",
      "Epoch : 25, Loss 5.434094429016113.\n"
     ]
    },
    {
     "name": "stderr",
     "output_type": "stream",
     "text": [
      "\r",
      " 50%|████████████████████████████████████▌                                    | 25/50 [00:05<00:05,  4.92it/s]"
     ]
    },
    {
     "name": "stdout",
     "output_type": "stream",
     "text": [
      "329\n",
      "82\n",
      "Epoch : 26, Loss 5.366479396820068.\n"
     ]
    },
    {
     "name": "stderr",
     "output_type": "stream",
     "text": [
      "\r",
      " 52%|█████████████████████████████████████▉                                   | 26/50 [00:05<00:04,  4.94it/s]"
     ]
    },
    {
     "name": "stdout",
     "output_type": "stream",
     "text": [
      "329\n",
      "82\n",
      "Epoch : 27, Loss 5.719364166259766.\n"
     ]
    },
    {
     "name": "stderr",
     "output_type": "stream",
     "text": [
      "\r",
      " 54%|███████████████████████████████████████▍                                 | 27/50 [00:05<00:04,  4.94it/s]"
     ]
    },
    {
     "name": "stdout",
     "output_type": "stream",
     "text": [
      "329\n",
      "82\n",
      "Epoch : 28, Loss 4.874917507171631.\n"
     ]
    },
    {
     "name": "stderr",
     "output_type": "stream",
     "text": [
      "\r",
      " 56%|████████████████████████████████████████▉                                | 28/50 [00:05<00:04,  4.93it/s]"
     ]
    },
    {
     "name": "stdout",
     "output_type": "stream",
     "text": [
      "329\n",
      "82\n",
      "Epoch : 29, Loss 5.577885150909424.\n"
     ]
    },
    {
     "name": "stderr",
     "output_type": "stream",
     "text": [
      "\r",
      " 58%|██████████████████████████████████████████▎                              | 29/50 [00:05<00:04,  4.93it/s]"
     ]
    },
    {
     "name": "stdout",
     "output_type": "stream",
     "text": [
      "329\n",
      "82\n",
      "Epoch : 30, Loss 5.0654473304748535.\n"
     ]
    },
    {
     "name": "stderr",
     "output_type": "stream",
     "text": [
      "\r",
      " 60%|███████████████████████████████████████████▊                             | 30/50 [00:06<00:04,  4.88it/s]"
     ]
    },
    {
     "name": "stdout",
     "output_type": "stream",
     "text": [
      "329\n",
      "82\n",
      "Epoch : 31, Loss 5.299556732177734.\n"
     ]
    },
    {
     "name": "stderr",
     "output_type": "stream",
     "text": [
      "\r",
      " 62%|█████████████████████████████████████████████▎                           | 31/50 [00:06<00:03,  4.91it/s]"
     ]
    },
    {
     "name": "stdout",
     "output_type": "stream",
     "text": [
      "329\n",
      "82\n",
      "Epoch : 32, Loss 5.145315170288086.\n"
     ]
    },
    {
     "name": "stderr",
     "output_type": "stream",
     "text": [
      "\r",
      " 64%|██████████████████████████████████████████████▋                          | 32/50 [00:06<00:03,  4.92it/s]"
     ]
    },
    {
     "name": "stdout",
     "output_type": "stream",
     "text": [
      "329\n",
      "82\n",
      "Epoch : 33, Loss 5.3902506828308105.\n"
     ]
    },
    {
     "name": "stderr",
     "output_type": "stream",
     "text": [
      "\r",
      " 66%|████████████████████████████████████████████████▏                        | 33/50 [00:06<00:03,  4.93it/s]"
     ]
    },
    {
     "name": "stdout",
     "output_type": "stream",
     "text": [
      "329\n",
      "82\n",
      "Epoch : 34, Loss 5.1446733474731445.\n"
     ]
    },
    {
     "name": "stderr",
     "output_type": "stream",
     "text": [
      "\r",
      " 68%|█████████████████████████████████████████████████▋                       | 34/50 [00:06<00:03,  4.92it/s]"
     ]
    },
    {
     "name": "stdout",
     "output_type": "stream",
     "text": [
      "329\n",
      "82\n",
      "Epoch : 35, Loss 5.3022284507751465.\n"
     ]
    },
    {
     "name": "stderr",
     "output_type": "stream",
     "text": [
      "\r",
      " 70%|███████████████████████████████████████████████████                      | 35/50 [00:07<00:03,  4.92it/s]"
     ]
    },
    {
     "name": "stdout",
     "output_type": "stream",
     "text": [
      "329\n",
      "82\n",
      "Epoch : 36, Loss 5.193376541137695.\n"
     ]
    },
    {
     "name": "stderr",
     "output_type": "stream",
     "text": [
      "\r",
      " 72%|████████████████████████████████████████████████████▌                    | 36/50 [00:07<00:02,  4.92it/s]"
     ]
    },
    {
     "name": "stdout",
     "output_type": "stream",
     "text": [
      "329\n",
      "82\n",
      "Epoch : 37, Loss 4.906711578369141.\n"
     ]
    },
    {
     "name": "stderr",
     "output_type": "stream",
     "text": [
      "\r",
      " 74%|██████████████████████████████████████████████████████                   | 37/50 [00:07<00:02,  4.93it/s]"
     ]
    },
    {
     "name": "stdout",
     "output_type": "stream",
     "text": [
      "329\n",
      "82\n",
      "Epoch : 38, Loss 5.142208576202393.\n"
     ]
    },
    {
     "name": "stderr",
     "output_type": "stream",
     "text": [
      "\r",
      " 76%|███████████████████████████████████████████████████████▍                 | 38/50 [00:07<00:02,  4.94it/s]"
     ]
    },
    {
     "name": "stdout",
     "output_type": "stream",
     "text": [
      "329\n",
      "82\n",
      "Epoch : 39, Loss 5.095953464508057.\n"
     ]
    },
    {
     "name": "stderr",
     "output_type": "stream",
     "text": [
      "\r",
      " 78%|████████████████████████████████████████████████████████▉                | 39/50 [00:07<00:02,  4.93it/s]"
     ]
    },
    {
     "name": "stdout",
     "output_type": "stream",
     "text": [
      "329\n",
      "82\n",
      "Epoch : 40, Loss 5.126489162445068.\n"
     ]
    },
    {
     "name": "stderr",
     "output_type": "stream",
     "text": [
      "\r",
      " 80%|██████████████████████████████████████████████████████████▍              | 40/50 [00:08<00:02,  4.93it/s]"
     ]
    },
    {
     "name": "stdout",
     "output_type": "stream",
     "text": [
      "329\n",
      "82\n",
      "Epoch : 41, Loss 5.1435465812683105.\n"
     ]
    },
    {
     "name": "stderr",
     "output_type": "stream",
     "text": [
      "\r",
      " 82%|███████████████████████████████████████████████████████████▊             | 41/50 [00:08<00:01,  4.91it/s]"
     ]
    },
    {
     "name": "stdout",
     "output_type": "stream",
     "text": [
      "329\n",
      "82\n",
      "Epoch : 42, Loss 5.077940940856934.\n"
     ]
    },
    {
     "name": "stderr",
     "output_type": "stream",
     "text": [
      "\r",
      " 84%|█████████████████████████████████████████████████████████████▎           | 42/50 [00:08<00:01,  4.91it/s]"
     ]
    },
    {
     "name": "stdout",
     "output_type": "stream",
     "text": [
      "329\n",
      "82\n",
      "Epoch : 43, Loss 5.100135803222656.\n"
     ]
    },
    {
     "name": "stderr",
     "output_type": "stream",
     "text": [
      "\r",
      " 86%|██████████████████████████████████████████████████████████████▊          | 43/50 [00:08<00:01,  4.91it/s]"
     ]
    },
    {
     "name": "stdout",
     "output_type": "stream",
     "text": [
      "329\n",
      "82\n",
      "Epoch : 44, Loss 5.258908748626709.\n"
     ]
    },
    {
     "name": "stderr",
     "output_type": "stream",
     "text": [
      "\r",
      " 88%|████████████████████████████████████████████████████████████████▏        | 44/50 [00:08<00:01,  4.92it/s]"
     ]
    },
    {
     "name": "stdout",
     "output_type": "stream",
     "text": [
      "329\n",
      "82\n",
      "Epoch : 45, Loss 5.282383441925049.\n"
     ]
    },
    {
     "name": "stderr",
     "output_type": "stream",
     "text": [
      "\r",
      " 90%|█████████████████████████████████████████████████████████████████▋       | 45/50 [00:09<00:01,  4.91it/s]"
     ]
    },
    {
     "name": "stdout",
     "output_type": "stream",
     "text": [
      "329\n",
      "82\n",
      "Epoch : 46, Loss 4.824498653411865.\n"
     ]
    },
    {
     "name": "stderr",
     "output_type": "stream",
     "text": [
      "\r",
      " 92%|███████████████████████████████████████████████████████████████████▏     | 46/50 [00:09<00:00,  4.92it/s]"
     ]
    },
    {
     "name": "stdout",
     "output_type": "stream",
     "text": [
      "329\n",
      "82\n",
      "Epoch : 47, Loss 5.245401382446289.\n"
     ]
    },
    {
     "name": "stderr",
     "output_type": "stream",
     "text": [
      "\r",
      " 94%|████████████████████████████████████████████████████████████████████▌    | 47/50 [00:09<00:00,  4.93it/s]"
     ]
    },
    {
     "name": "stdout",
     "output_type": "stream",
     "text": [
      "329\n",
      "82\n",
      "Epoch : 48, Loss 5.199704170227051.\n"
     ]
    },
    {
     "name": "stderr",
     "output_type": "stream",
     "text": [
      "\r",
      " 96%|██████████████████████████████████████████████████████████████████████   | 48/50 [00:09<00:00,  4.92it/s]"
     ]
    },
    {
     "name": "stdout",
     "output_type": "stream",
     "text": [
      "329\n",
      "82\n",
      "Epoch : 49, Loss 5.40802526473999.\n"
     ]
    },
    {
     "name": "stderr",
     "output_type": "stream",
     "text": [
      "\r",
      " 98%|███████████████████████████████████████████████████████████████████████▌ | 49/50 [00:10<00:00,  4.89it/s]"
     ]
    },
    {
     "name": "stdout",
     "output_type": "stream",
     "text": [
      "329\n",
      "82\n",
      "Epoch : 50, Loss 4.806979656219482.\n"
     ]
    },
    {
     "name": "stderr",
     "output_type": "stream",
     "text": [
      "100%|█████████████████████████████████████████████████████████████████████████| 50/50 [00:10<00:00,  4.90it/s]\n"
     ]
    }
   ],
   "source": [
    "# Running\n",
    "    \n",
    "# get trainning set\n",
    "x_train, y_train = Variable(train_xT), Variable(train_yT) # req_grad = Tru\n",
    "x_val, y_val = Variable(val_xT), Variable(val_yT)\n",
    "\n",
    "# number of epochs\n",
    "epochs = 50\n",
    "\n",
    "# split up the dataset based on epoch\n",
    "train_n = len(x_train) // epochs # floor division to not overload\n",
    "val_n = len(x_val) // epochs\n",
    "\n",
    "for epoch in tqdm(range(0,epochs)):\n",
    "    \n",
    "    print(train_n)\n",
    "    print(val_n)\n",
    "    \n",
    "    # send a portion\n",
    "    xt_send = x_train[train_n * epoch : train_n * (epoch + 1)]\n",
    "    yt_send = y_train[train_n * epoch : train_n * (epoch + 1)]\n",
    "    \n",
    "    xv_send = x_val[val_n * epoch : val_n * (epoch + 1)]\n",
    "    yv_send = y_val[val_n * epoch : val_n * (epoch + 1)]\n",
    "    \n",
    "    # call trainnign and send arrays \n",
    "    train(epoch,xt_send,yt_send, xv_send, yv_send)"
   ]
  },
  {
   "cell_type": "code",
   "execution_count": 17,
   "metadata": {},
   "outputs": [
    {
     "data": {
      "text/plain": [
       "[<matplotlib.lines.Line2D at 0x2300010ebc8>]"
      ]
     },
     "execution_count": 17,
     "metadata": {},
     "output_type": "execute_result"
    },
    {
     "data": {
      "image/png": "[encoded data removed]",
      "text/plain": [
       "<Figure size 432x288 with 1 Axes>"
      ]
     },
     "metadata": {
      "needs_background": "light"
     },
     "output_type": "display_data"
    }
   ],
   "source": [
    "plt.plot(loss_Tracker)"
   ]
  },
  {
   "cell_type": "code",
   "execution_count": null,
   "metadata": {},
   "outputs": [],
   "source": []
  },
  {
   "cell_type": "code",
   "execution_count": null,
   "metadata": {},
   "outputs": [],
   "source": []
  },
  {
   "cell_type": "code",
   "execution_count": null,
   "metadata": {},
   "outputs": [],
   "source": []
  },
  {
   "cell_type": "code",
   "execution_count": null,
   "metadata": {},
   "outputs": [],
   "source": []
  }
 ],
 "metadata": {
  "kernelspec": {
   "display_name": "Python 3.7.5 64-bit ('kaplan_investments': conda)",
   "language": "python",
   "name": "python37564bitkaplaninvestmentsconda4adf9270b7f74649b5f1f267d1026a7f"
  },
  "language_info": {
   "codemirror_mode": {
    "name": "ipython",
    "version": 3
   },
   "file_extension": ".py",
   "mimetype": "text/x-python",
   "name": "python",
   "nbconvert_exporter": "python",
   "pygments_lexer": "ipython3",
   "version": "3.7.9"
  }
 },
 "nbformat": 4,
 "nbformat_minor": 4
}
